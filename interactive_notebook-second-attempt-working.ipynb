{
 "cells": [
  {
   "cell_type": "markdown",
   "metadata": {},
   "source": [
    "# Interactive Notebook - 2nd Attempt"
   ]
  },
  {
   "cell_type": "markdown",
   "metadata": {},
   "source": [
    "## Setup"
   ]
  },
  {
   "cell_type": "code",
   "execution_count": 2,
   "metadata": {
    "scrolled": true
   },
   "outputs": [],
   "source": [
    "import requests\n",
    "from selenium import webdriver\n",
    "from selenium.webdriver.common.keys import Keys\n",
    "from selenium.webdriver.support.ui import WebDriverWait\n",
    "from selenium.webdriver.support import expected_conditions as EC\n",
    "from selenium.webdriver.common.by import By\n",
    "from selenium.common.exceptions import TimeoutException\n",
    "from bs4 import BeautifulSoup\n",
    "from time import sleep\n",
    "import pandas as pd\n",
    "import pprint as pp\n",
    "import datetime\n",
    "import os"
   ]
  },
  {
   "cell_type": "code",
   "execution_count": 2,
   "metadata": {},
   "outputs": [],
   "source": [
    "UDACITY_URL = \"https://www.udacity.com/courses/all\"\n",
    "chrome_driver = \"/usr/bin/chromedriver\""
   ]
  },
  {
   "cell_type": "markdown",
   "metadata": {},
   "source": [
    "## Get Data from Website"
   ]
  },
  {
   "cell_type": "code",
   "execution_count": 3,
   "metadata": {},
   "outputs": [
    {
     "name": "stdout",
     "output_type": "stream",
     "text": [
      "Course Catalog Page is ready!\n",
      "Closing pop up button\n"
     ]
    }
   ],
   "source": [
    "browser = webdriver.Chrome(executable_path=chrome_driver)\n",
    "browser.get(UDACITY_URL)\n",
    "\n",
    "pop_up_xml_path = \"/html/body/ir-root/ir-content/ir-autopopup-modal/ir-modal/div/div[2]/div/div[1]\"\n",
    "\n",
    "delay = 30  # seconds\n",
    "try:\n",
    "    popup_close_button = WebDriverWait(browser, delay).until(\n",
    "        EC.presence_of_element_located(\n",
    "            (\n",
    "                By.XPATH, pop_up_xml_path\n",
    "            )\n",
    "        )\n",
    "    )\n",
    "    print(\"Course Catalog Page is ready!\")\n",
    "except TimeoutException:\n",
    "    print(\"Loading Course Catalog Page took too much time!\")\n",
    "\n",
    "print(\"Closing pop up button\")\n",
    "popup_close_button.click()"
   ]
  },
  {
   "cell_type": "code",
   "execution_count": 8,
   "metadata": {},
   "outputs": [],
   "source": [
    "soup = BeautifulSoup(browser.page_source, \"html.parser\")"
   ]
  },
  {
   "cell_type": "code",
   "execution_count": 9,
   "metadata": {},
   "outputs": [
    {
     "data": {
      "text/plain": [
       "38"
      ]
     },
     "execution_count": 9,
     "metadata": {},
     "output_type": "execute_result"
    }
   ],
   "source": [
    "nanodegree_cards = soup.find_all('div', {'class': 'course-summary-card row row-gap-medium catalog-card nanodegree-card ng-star-inserted'})\n",
    "\n",
    "len(nanodegree_cards)"
   ]
  },
  {
   "cell_type": "code",
   "execution_count": 1,
   "metadata": {},
   "outputs": [
    {
     "ename": "NameError",
     "evalue": "name 'soup' is not defined",
     "output_type": "error",
     "traceback": [
      "\u001b[0;31m---------------------------------------------------------------------------\u001b[0m",
      "\u001b[0;31mNameError\u001b[0m                                 Traceback (most recent call last)",
      "\u001b[0;32m<ipython-input-1-4e917c7d32de>\u001b[0m in \u001b[0;36m<module>\u001b[0;34m\u001b[0m\n\u001b[0;32m----> 1\u001b[0;31m \u001b[0mcourse_cards\u001b[0m \u001b[0;34m=\u001b[0m \u001b[0msoup\u001b[0m\u001b[0;34m.\u001b[0m\u001b[0mfind_all\u001b[0m\u001b[0;34m(\u001b[0m\u001b[0;34m'div'\u001b[0m\u001b[0;34m,\u001b[0m \u001b[0;34m{\u001b[0m\u001b[0;34m'class'\u001b[0m\u001b[0;34m:\u001b[0m \u001b[0;34m'course-summary-card row row-gap-medium catalog-card ng-star-inserted'\u001b[0m\u001b[0;34m}\u001b[0m\u001b[0;34m)\u001b[0m\u001b[0;34m\u001b[0m\u001b[0;34m\u001b[0m\u001b[0m\n\u001b[0m\u001b[1;32m      2\u001b[0m \u001b[0;34m\u001b[0m\u001b[0m\n\u001b[1;32m      3\u001b[0m \u001b[0mlen\u001b[0m\u001b[0;34m(\u001b[0m\u001b[0mcourse_cards\u001b[0m\u001b[0;34m)\u001b[0m\u001b[0;34m\u001b[0m\u001b[0;34m\u001b[0m\u001b[0m\n",
      "\u001b[0;31mNameError\u001b[0m: name 'soup' is not defined"
     ]
    }
   ],
   "source": [
    "course_cards = soup.find_all('div', {'class': 'course-summary-card row row-gap-medium catalog-card ng-star-inserted'})\n",
    "\n",
    "len(course_cards)"
   ]
  },
  {
   "cell_type": "markdown",
   "metadata": {},
   "source": [
    "## Explore Nanodegree Cards"
   ]
  },
  {
   "cell_type": "code",
   "execution_count": 104,
   "metadata": {
    "scrolled": true
   },
   "outputs": [
    {
     "name": "stdout",
     "output_type": "stream",
     "text": [
      "0: <div _ngcontent-iridium-us-c24=\"\" class=\"course-summary-card row row-gap-medium catalog-card nanodegree-card ng-star-inserted\"><ir-catalog-card _ngcontent-iridium-us-c24=\"\" _nghost-iridium-us-c27=\"\"><div _ngcontent-iridium-us-c27=\"\" class=\"card-wrapper is-collapsed\"><div _ngcontent-iridium-us-c27=\"\" class=\"card__inner card mb-0\"><div _ngcontent-iridium-us-c27=\"\" class=\"card__inner--upper\"><div _ngcontent-iridium-us-c27=\"\" class=\"image_wrapper hidden-md-down\"><a _ngcontent-iridium-us-c27=\"\" href=\"/course/java-developer-nanodegree--nd035\"><!-- --><div _ngcontent-iridium-us-c27=\"\" class=\"image-container ng-star-inserted\" style='background-image: url(\"https://d20vrrgs8k4bvw.cloudfront.net/images/degrees/nd035/nd-card.png\");'><div _ngcontent-iridium-us-c27=\"\" class=\"image-overlay\"></div></div></a><!-- --></div><div _ngcontent-iridium-us-c27=\"\" class=\"card-content\"><!-- --><span _ngcontent-iridium-us-c27=\"\" class=\"tag tag--new card ng-star-inserted\">New</span><!-- --><div _ngcontent-iridium-us-c27=\"\" class=\"category-wrapper\"><span _ngcontent-iridium-us-c27=\"\" class=\"mobile-icon\"></span><!-- --><h4 _ngcontent-iridium-us-c27=\"\" class=\"category ng-star-inserted\"> School of Programming </h4></div><h3 _ngcontent-iridium-us-c27=\"\" class=\"card-heading\"><a _ngcontent-iridium-us-c27=\"\" class=\"capitalize\" href=\"/course/java-developer-nanodegree--nd035\">Java Developer</a></h3><div _ngcontent-iridium-us-c27=\"\" class=\"right-sub\"><!-- --><div _ngcontent-iridium-us-c27=\"\" class=\"skills ng-star-inserted\"><h4 _ngcontent-iridium-us-c27=\"\">Skills Covered</h4><span _ngcontent-iridium-us-c27=\"\" class=\"truncate-content\"><!-- --><span _ngcontent-iridium-us-c27=\"\" class=\"ng-star-inserted\">Java, </span><span _ngcontent-iridium-us-c27=\"\" class=\"ng-star-inserted\">Spring Boot, </span><span _ngcontent-iridium-us-c27=\"\" class=\"ng-star-inserted\">Rest API, </span><span _ngcontent-iridium-us-c27=\"\" class=\"ng-star-inserted\">MySQL, </span><span _ngcontent-iridium-us-c27=\"\" class=\"ng-star-inserted\">MongoDB</span></span></div><!-- --><div _ngcontent-iridium-us-c27=\"\" class=\"hidden-md-up level\"><span _ngcontent-iridium-us-c27=\"\" class=\"course-level course-level-intermediate\"></span><span _ngcontent-iridium-us-c27=\"\" class=\"capitalize\">intermediate</span></div></div></div></div><div _ngcontent-iridium-us-c27=\"\" class=\"card__inner--lower hidden-sm-down\"><div _ngcontent-iridium-us-c27=\"\" class=\"left uppercase blue expander pointer\"><!-- --><span _ngcontent-iridium-us-c27=\"\" class=\"ng-star-inserted\">Nanodegree Details</span><!-- --></div><div _ngcontent-iridium-us-c27=\"\" class=\"right\"><!-- --><span _ngcontent-iridium-us-c27=\"\" class=\"caption text-right level ng-star-inserted\"><span _ngcontent-iridium-us-c27=\"\" class=\"course-level course-level-intermediate\"></span><span _ngcontent-iridium-us-c27=\"\" class=\"capitalize\">intermediate</span></span></div></div></div><div _ngcontent-iridium-us-c27=\"\" class=\"card__expander\"><div _ngcontent-iridium-us-c27=\"\" class=\"card__expander--summary mb-1\"><!-- --><span _ngcontent-iridium-us-c27=\"\" class=\"ng-star-inserted\">Learn back-end development with the Java programming language</span></div><hr _ngcontent-iridium-us-c27=\"\"/><div _ngcontent-iridium-us-c27=\"\" class=\"card__expander--details\"><div _ngcontent-iridium-us-c27=\"\" class=\"rating\"><!-- --></div><a _ngcontent-iridium-us-c27=\"\" class=\"button--primary btn\" href=\"/course/java-developer-nanodegree--nd035\">Learn More</a></div></div></div></ir-catalog-card><!-- --></div>\n",
      "\n",
      "1: <div _ngcontent-iridium-us-c24=\"\" class=\"course-summary-card row row-gap-medium catalog-card nanodegree-card ng-star-inserted\"><ir-catalog-card _ngcontent-iridium-us-c24=\"\" _nghost-iridium-us-c27=\"\"><div _ngcontent-iridium-us-c27=\"\" class=\"card-wrapper is-collapsed\"><div _ngcontent-iridium-us-c27=\"\" class=\"card__inner card mb-0\"><div _ngcontent-iridium-us-c27=\"\" class=\"card__inner--upper\"><div _ngcontent-iridium-us-c27=\"\" class=\"image_wrapper hidden-md-down\"><a _ngcontent-iridium-us-c27=\"\" href=\"/course/ai-product-manager-nanodegree--nd088\"><!-- --><div _ngcontent-iridium-us-c27=\"\" class=\"image-container ng-star-inserted\" style='background-image: url(\"https://d20vrrgs8k4bvw.cloudfront.net/images/degrees/nd088/nd-card.png\");'><div _ngcontent-iridium-us-c27=\"\" class=\"image-overlay\"></div></div></a><!-- --></div><div _ngcontent-iridium-us-c27=\"\" class=\"card-content\"><!-- --><span _ngcontent-iridium-us-c27=\"\" class=\"tag tag--new card ng-star-inserted\">New</span><!-- --><div _ngcontent-iridium-us-c27=\"\" class=\"category-wrapper\"><span _ngcontent-iridium-us-c27=\"\" class=\"mobile-icon\"></span><!-- --><h4 _ngcontent-iridium-us-c27=\"\" class=\"category ng-star-inserted\"> School of Artificial Intelligence </h4></div><h3 _ngcontent-iridium-us-c27=\"\" class=\"card-heading\"><a _ngcontent-iridium-us-c27=\"\" class=\"capitalize\" href=\"/course/ai-product-manager-nanodegree--nd088\">AI Product Manager</a></h3><div _ngcontent-iridium-us-c27=\"\" class=\"right-sub\"><!-- --><div _ngcontent-iridium-us-c27=\"\" class=\"skills ng-star-inserted\"><h4 _ngcontent-iridium-us-c27=\"\">Skills Covered</h4><span _ngcontent-iridium-us-c27=\"\" class=\"truncate-content\"><!-- --><span _ngcontent-iridium-us-c27=\"\" class=\"ng-star-inserted\">AI Products, </span><span _ngcontent-iridium-us-c27=\"\" class=\"ng-star-inserted\">Training ML Models, </span><span _ngcontent-iridium-us-c27=\"\" class=\"ng-star-inserted\">Annotating Datasets, </span><span _ngcontent-iridium-us-c27=\"\" class=\"ng-star-inserted\">Prototyping a Product</span></span></div><!-- --><div _ngcontent-iridium-us-c27=\"\" class=\"hidden-sm-down ng-star-inserted\"><h4 _ngcontent-iridium-us-c27=\"\"> In Collaboration With </h4><span _ngcontent-iridium-us-c27=\"\" class=\"truncate-content\"><!-- --><span _ngcontent-iridium-us-c27=\"\" class=\"ng-star-inserted\">Figure Eight</span></span></div><div _ngcontent-iridium-us-c27=\"\" class=\"hidden-md-up level\"><span _ngcontent-iridium-us-c27=\"\" class=\"course-level course-level-beginner\"></span><span _ngcontent-iridium-us-c27=\"\" class=\"capitalize\">beginner</span></div></div></div></div><div _ngcontent-iridium-us-c27=\"\" class=\"card__inner--lower hidden-sm-down\"><div _ngcontent-iridium-us-c27=\"\" class=\"left uppercase blue expander pointer\"><!-- --><span _ngcontent-iridium-us-c27=\"\" class=\"ng-star-inserted\">Nanodegree Details</span><!-- --></div><div _ngcontent-iridium-us-c27=\"\" class=\"right\"><!-- --><span _ngcontent-iridium-us-c27=\"\" class=\"caption text-right level ng-star-inserted\"><span _ngcontent-iridium-us-c27=\"\" class=\"course-level course-level-beginner\"></span><span _ngcontent-iridium-us-c27=\"\" class=\"capitalize\">beginner</span></span></div></div></div><div _ngcontent-iridium-us-c27=\"\" class=\"card__expander\"><div _ngcontent-iridium-us-c27=\"\" class=\"card__expander--summary mb-1\"><!-- --><span _ngcontent-iridium-us-c27=\"\" class=\"ng-star-inserted\">Learn to develop AI products that deliver business value. Build skills that help you compete in the new AI-powered world.</span></div><hr _ngcontent-iridium-us-c27=\"\"/><div _ngcontent-iridium-us-c27=\"\" class=\"card__expander--details\"><div _ngcontent-iridium-us-c27=\"\" class=\"rating\"><!-- --></div><a _ngcontent-iridium-us-c27=\"\" class=\"button--primary btn\" href=\"/course/ai-product-manager-nanodegree--nd088\">Learn More</a></div></div></div></ir-catalog-card><!-- --></div>\n",
      "\n"
     ]
    }
   ],
   "source": [
    "for i, nd_card in enumerate(nanodegree_cards[:2]):\n",
    "    print(f\"{i}: {nd_card}\\n\")"
   ]
  },
  {
   "cell_type": "code",
   "execution_count": 73,
   "metadata": {
    "scrolled": true
   },
   "outputs": [
    {
     "name": "stdout",
     "output_type": "stream",
     "text": [
      "<div _ngcontent-iridium-us-c24=\"\" class=\"course-summary-card row row-gap-medium catalog-card nanodegree-card ng-star-inserted\">\n",
      " <ir-catalog-card _ngcontent-iridium-us-c24=\"\" _nghost-iridium-us-c27=\"\">\n",
      "  <div _ngcontent-iridium-us-c27=\"\" class=\"card-wrapper is-collapsed\">\n",
      "   <div _ngcontent-iridium-us-c27=\"\" class=\"card__inner card mb-0\">\n",
      "    <div _ngcontent-iridium-us-c27=\"\" class=\"card__inner--upper\">\n",
      "     <div _ngcontent-iridium-us-c27=\"\" class=\"image_wrapper hidden-md-down\">\n",
      "      <a _ngcontent-iridium-us-c27=\"\" href=\"/course/intro-to-machine-learning-nanodegree--nd229\">\n",
      "       <!-- -->\n",
      "       <div _ngcontent-iridium-us-c27=\"\" class=\"image-container ng-star-inserted\" style='background-image: url(\"https://d20vrrgs8k4bvw.cloudfront.net/images/degrees/nd229/nd-card.jpg\");'>\n",
      "        <div _ngcontent-iridium-us-c27=\"\" class=\"image-overlay\">\n",
      "        </div>\n",
      "       </div>\n",
      "      </a>\n",
      "      <!-- -->\n",
      "     </div>\n",
      "     <div _ngcontent-iridium-us-c27=\"\" class=\"card-content\">\n",
      "      <!-- -->\n",
      "      <span _ngcontent-iridium-us-c27=\"\" class=\"tag tag--new card ng-star-inserted\">\n",
      "       New\n",
      "      </span>\n",
      "      <!-- -->\n",
      "      <div _ngcontent-iridium-us-c27=\"\" class=\"category-wrapper\">\n",
      "       <span _ngcontent-iridium-us-c27=\"\" class=\"mobile-icon\">\n",
      "       </span>\n",
      "       <!-- -->\n",
      "       <h4 _ngcontent-iridium-us-c27=\"\" class=\"category ng-star-inserted\">\n",
      "        School of Artificial Intelligence\n",
      "       </h4>\n",
      "      </div>\n",
      "      <h3 _ngcontent-iridium-us-c27=\"\" class=\"card-heading\">\n",
      "       <a _ngcontent-iridium-us-c27=\"\" class=\"capitalize\" href=\"/course/intro-to-machine-learning-nanodegree--nd229\">\n",
      "        Intro to Machine Learning\n",
      "       </a>\n",
      "      </h3>\n",
      "      <div _ngcontent-iridium-us-c27=\"\" class=\"right-sub\">\n",
      "       <!-- -->\n",
      "       <div _ngcontent-iridium-us-c27=\"\" class=\"skills ng-star-inserted\">\n",
      "        <h4 _ngcontent-iridium-us-c27=\"\">\n",
      "         Skills Covered\n",
      "        </h4>\n",
      "        <span _ngcontent-iridium-us-c27=\"\" class=\"truncate-content\">\n",
      "         <!-- -->\n",
      "         <span _ngcontent-iridium-us-c27=\"\" class=\"ng-star-inserted\">\n",
      "          Introduction to Machine Learning,\n",
      "         </span>\n",
      "         <span _ngcontent-iridium-us-c27=\"\" class=\"ng-star-inserted\">\n",
      "          Supervised Learning,\n",
      "         </span>\n",
      "         <span _ngcontent-iridium-us-c27=\"\" class=\"ng-star-inserted\">\n",
      "          Deep Learning,\n",
      "         </span>\n",
      "         <span _ngcontent-iridium-us-c27=\"\" class=\"ng-star-inserted\">\n",
      "          Unsupervised Learning\n",
      "         </span>\n",
      "        </span>\n",
      "       </div>\n",
      "       <!-- -->\n",
      "       <div _ngcontent-iridium-us-c27=\"\" class=\"hidden-sm-down ng-star-inserted\">\n",
      "        <h4 _ngcontent-iridium-us-c27=\"\">\n",
      "         In Collaboration With\n",
      "        </h4>\n",
      "        <span _ngcontent-iridium-us-c27=\"\" class=\"truncate-content\">\n",
      "         <!-- -->\n",
      "         <span _ngcontent-iridium-us-c27=\"\" class=\"ng-star-inserted\">\n",
      "          Kaggle,\n",
      "         </span>\n",
      "         <span _ngcontent-iridium-us-c27=\"\" class=\"ng-star-inserted\">\n",
      "          AWS\n",
      "         </span>\n",
      "        </span>\n",
      "       </div>\n",
      "       <div _ngcontent-iridium-us-c27=\"\" class=\"hidden-md-up level\">\n",
      "        <span _ngcontent-iridium-us-c27=\"\" class=\"course-level course-level-beginner\">\n",
      "        </span>\n",
      "        <span _ngcontent-iridium-us-c27=\"\" class=\"capitalize\">\n",
      "         beginner\n",
      "        </span>\n",
      "       </div>\n",
      "      </div>\n",
      "     </div>\n",
      "    </div>\n",
      "    <div _ngcontent-iridium-us-c27=\"\" class=\"card__inner--lower hidden-sm-down\">\n",
      "     <div _ngcontent-iridium-us-c27=\"\" class=\"left uppercase blue expander pointer\">\n",
      "      <!-- -->\n",
      "      <span _ngcontent-iridium-us-c27=\"\" class=\"ng-star-inserted\">\n",
      "       Nanodegree Details\n",
      "      </span>\n",
      "      <!-- -->\n",
      "     </div>\n",
      "     <div _ngcontent-iridium-us-c27=\"\" class=\"right\">\n",
      "      <!-- -->\n",
      "      <span _ngcontent-iridium-us-c27=\"\" class=\"caption text-right level ng-star-inserted\">\n",
      "       <span _ngcontent-iridium-us-c27=\"\" class=\"course-level course-level-beginner\">\n",
      "       </span>\n",
      "       <span _ngcontent-iridium-us-c27=\"\" class=\"capitalize\">\n",
      "        beginner\n",
      "       </span>\n",
      "      </span>\n",
      "     </div>\n",
      "    </div>\n",
      "   </div>\n",
      "   <div _ngcontent-iridium-us-c27=\"\" class=\"card__expander\">\n",
      "    <div _ngcontent-iridium-us-c27=\"\" class=\"card__expander--summary mb-1\">\n",
      "     <!-- -->\n",
      "     <span _ngcontent-iridium-us-c27=\"\" class=\"ng-star-inserted\">\n",
      "      Build a solid foundation in Supervised, Unsupervised, and Deep Learning. Then, use these skills to test and deploy machine learning models in a production environment.\n",
      "     </span>\n",
      "    </div>\n",
      "    <hr _ngcontent-iridium-us-c27=\"\"/>\n",
      "    <div _ngcontent-iridium-us-c27=\"\" class=\"card__expander--details\">\n",
      "     <div _ngcontent-iridium-us-c27=\"\" class=\"rating\">\n",
      "      <!-- -->\n",
      "     </div>\n",
      "     <a _ngcontent-iridium-us-c27=\"\" class=\"button--primary btn\" href=\"/course/intro-to-machine-learning-nanodegree--nd229\">\n",
      "      Learn More\n",
      "     </a>\n",
      "    </div>\n",
      "   </div>\n",
      "  </div>\n",
      " </ir-catalog-card>\n",
      " <!-- -->\n",
      "</div>\n",
      "\n"
     ]
    }
   ],
   "source": [
    "print(nanodegree_cards[6].prettify())"
   ]
  },
  {
   "cell_type": "code",
   "execution_count": 102,
   "metadata": {
    "scrolled": false
   },
   "outputs": [],
   "source": [
    "# Helper Function\n",
    "\n",
    "def get_nanodegree_programs_details_list(nanodegree_cards):\n",
    "    '''\n",
    "    returns list of lists containing info on nanodegree programs\n",
    "    Each nanodegree info list contains -\n",
    "        - Name\n",
    "        - Relative URL Link\n",
    "        - Category\n",
    "        - Skills (if present)\n",
    "        - Collaborators (if present)\n",
    "        - Level: Beginner, Intermediate, Advanced (if present)\n",
    "        - Details (if present)\n",
    "    '''\n",
    "    print(\"Getting Nanodegree program details list...\")\n",
    "    all_nd_info_list = []\n",
    "    for i, nd_card in enumerate(nanodegree_cards):\n",
    "        #print(f\"{i}: {nd_card.text}\\n\")\n",
    "\n",
    "        # find course links\n",
    "        nd_info = []\n",
    "\n",
    "        nd_course_link = nd_card.find('a', {'class': 'capitalize'})\n",
    "        nd_name = nd_course_link.text\n",
    "        nd_info.append(nd_name)\n",
    "\n",
    "        nd_link = nd_course_link.get('href')\n",
    "        nd_info.append(nd_link)\n",
    "\n",
    "        nd_category = nd_card.find('h4', {'class': 'category ng-star-inserted'}).text.strip()\n",
    "        nd_info.append(nd_category)\n",
    "\n",
    "        # skills\n",
    "        skills_section = nd_card.find('div', {'class': 'skills ng-star-inserted'})\n",
    "        if skills_section:\n",
    "            skills_list = skills_section.find_all('span', {'class': 'ng-star-inserted'})\n",
    "            skills = [skill.text for skill in skills_list]\n",
    "            nd_info.append(''.join(skills))\n",
    "        else:\n",
    "            nd_info.append('')\n",
    "\n",
    "        # collaborators\n",
    "        collaborators_section = nd_card.find('div', {'class': 'hidden-sm-down ng-star-inserted'})\n",
    "        if collaborators_section:\n",
    "            #print('\\n', collaborators.prettify())\n",
    "            collaborators_list = collaborators_section.find_all('span', {'class': 'ng-star-inserted'})\n",
    "            collaborators = [collaborator.text for collaborator in collaborators_list]\n",
    "            #print(collaborators)\n",
    "            nd_info.append(''.join(collaborators))\n",
    "        else:\n",
    "            nd_info.append('')\n",
    "\n",
    "        # nd level\n",
    "        right_section = nd_card.find('div', {'class': 'right'})\n",
    "        if right_section:\n",
    "            nd_level = right_section.text.capitalize()\n",
    "            nd_info.append(nd_level)\n",
    "        else:\n",
    "            nd_info.append('')\n",
    "\n",
    "        # nd details\n",
    "        details_section = nd_card.find('div', {'class': 'card__expander'}).find('span', {'class': 'ng-star-inserted'})\n",
    "        if details_section:\n",
    "            nd_details = details_section.text\n",
    "            nd_info.append(nd_details)\n",
    "        else:\n",
    "            nd_info.append('')\n",
    "\n",
    "        #print(f\"{i}: {'|'.join(nd_info)}\")\n",
    "        all_nd_info_list.append(nd_info)\n",
    "    print(\"Completed getting Nanodegree program details list...\")\n",
    "    return all_nd_info_list"
   ]
  },
  {
   "cell_type": "code",
   "execution_count": 103,
   "metadata": {},
   "outputs": [
    {
     "name": "stdout",
     "output_type": "stream",
     "text": [
      "Getting Nanodegree program details list...\n",
      "Completed getting Nanodegree program details list...\n"
     ]
    },
    {
     "data": {
      "text/plain": [
       "[['Java Developer',\n",
       "  '/course/java-developer-nanodegree--nd035',\n",
       "  'School of Programming',\n",
       "  'Java, Spring Boot, Rest API, MySQL, MongoDB',\n",
       "  '',\n",
       "  'Intermediate',\n",
       "  'Learn back-end development with the Java programming language'],\n",
       " ['AI Product Manager',\n",
       "  '/course/ai-product-manager-nanodegree--nd088',\n",
       "  'School of Artificial Intelligence',\n",
       "  'AI Products, Training ML Models, Annotating Datasets, Prototyping a Product',\n",
       "  'Figure Eight',\n",
       "  'Beginner',\n",
       "  'Learn to develop AI products that deliver business value. Build skills that help you compete in the new AI-powered world.']]"
      ]
     },
     "execution_count": 103,
     "metadata": {},
     "output_type": "execute_result"
    }
   ],
   "source": [
    "nd_infos_list = get_nanodegree_programs_details_list(nanodegree_cards)\n",
    "\n",
    "nd_infos_list[:2]"
   ]
  },
  {
   "cell_type": "markdown",
   "metadata": {},
   "source": [
    "---"
   ]
  },
  {
   "cell_type": "markdown",
   "metadata": {},
   "source": [
    "## Explore Course Cards"
   ]
  },
  {
   "cell_type": "code",
   "execution_count": 127,
   "metadata": {
    "scrolled": true
   },
   "outputs": [
    {
     "name": "stdout",
     "output_type": "stream",
     "text": [
      "0: <div _ngcontent-iridium-us-c24=\"\" class=\"course-summary-card row row-gap-medium catalog-card ng-star-inserted\"><ir-catalog-card _ngcontent-iridium-us-c24=\"\" _nghost-iridium-us-c27=\"\"><div _ngcontent-iridium-us-c27=\"\" class=\"card-wrapper is-collapsed\"><div _ngcontent-iridium-us-c27=\"\" class=\"card__inner card mb-0\"><div _ngcontent-iridium-us-c27=\"\" class=\"card__inner--upper\"><div _ngcontent-iridium-us-c27=\"\" class=\"image_wrapper hidden-md-down\"><a _ngcontent-iridium-us-c27=\"\" href=\"/course/self-driving-car-fundamentals-featuring-apollo--ud0419\"><!-- --><div _ngcontent-iridium-us-c27=\"\" class=\"image-container ng-star-inserted\" style='background-image: url(\"https://d20vrrgs8k4bvw.cloudfront.net/images/courses/thumbnails/ud0419_thumbnail.jpg\");'><div _ngcontent-iridium-us-c27=\"\" class=\"image-overlay\"></div></div></a><!-- --></div><div _ngcontent-iridium-us-c27=\"\" class=\"card-content\"><!-- --><span _ngcontent-iridium-us-c27=\"\" class=\"tag tag--new card ng-star-inserted\">New</span><!-- --><div _ngcontent-iridium-us-c27=\"\" class=\"category-wrapper\"><span _ngcontent-iridium-us-c27=\"\" class=\"mobile-icon\"></span><!-- --><h4 _ngcontent-iridium-us-c27=\"\" class=\"category ng-star-inserted\"> School of Autonomous Systems </h4></div><h3 _ngcontent-iridium-us-c27=\"\" class=\"card-heading\"><a _ngcontent-iridium-us-c27=\"\" class=\"capitalize\" href=\"/course/self-driving-car-fundamentals-featuring-apollo--ud0419\">Self-Driving Fundamentals: Featuring Apollo </a></h3><div _ngcontent-iridium-us-c27=\"\" class=\"right-sub\"><!-- --><div _ngcontent-iridium-us-c27=\"\" class=\"skills ng-star-inserted\"><h4 _ngcontent-iridium-us-c27=\"\">Skills Covered</h4><span _ngcontent-iridium-us-c27=\"\" class=\"truncate-content\"><!-- --><span _ngcontent-iridium-us-c27=\"\" class=\"ng-star-inserted\">Apollo HD Map, </span><span _ngcontent-iridium-us-c27=\"\" class=\"ng-star-inserted\">Localization, </span><span _ngcontent-iridium-us-c27=\"\" class=\"ng-star-inserted\">Perception, </span><span _ngcontent-iridium-us-c27=\"\" class=\"ng-star-inserted\">Prediction, </span><span _ngcontent-iridium-us-c27=\"\" class=\"ng-star-inserted\">Planning, </span><span _ngcontent-iridium-us-c27=\"\" class=\"ng-star-inserted\">Control</span></span></div><!-- --><div _ngcontent-iridium-us-c27=\"\" class=\"hidden-sm-down ng-star-inserted\"><h4 _ngcontent-iridium-us-c27=\"\"> In Collaboration With </h4><span _ngcontent-iridium-us-c27=\"\" class=\"truncate-content\"><!-- --><span _ngcontent-iridium-us-c27=\"\" class=\"ng-star-inserted\">Baidu</span></span></div><div _ngcontent-iridium-us-c27=\"\" class=\"hidden-md-up level\"><span _ngcontent-iridium-us-c27=\"\" class=\"course-level course-level-beginner\"></span><span _ngcontent-iridium-us-c27=\"\" class=\"capitalize\">beginner</span></div></div></div></div><div _ngcontent-iridium-us-c27=\"\" class=\"card__inner--lower hidden-sm-down\"><div _ngcontent-iridium-us-c27=\"\" class=\"left uppercase blue expander pointer\"><!-- --><span _ngcontent-iridium-us-c27=\"\" class=\"ng-star-inserted\">Course Details</span><!-- --></div><div _ngcontent-iridium-us-c27=\"\" class=\"right\"><!-- --><span _ngcontent-iridium-us-c27=\"\" class=\"caption text-right level ng-star-inserted\"><span _ngcontent-iridium-us-c27=\"\" class=\"course-level course-level-beginner\"></span><span _ngcontent-iridium-us-c27=\"\" class=\"capitalize\">beginner</span></span></div></div></div><div _ngcontent-iridium-us-c27=\"\" class=\"card__expander\"><div _ngcontent-iridium-us-c27=\"\" class=\"card__expander--summary mb-1\"><!-- --><span _ngcontent-iridium-us-c27=\"\" class=\"ng-star-inserted\">Identify key parts of self-driving cars, utilize Apollo HD Map, localization, perception, prediction, planning and control, and start the learning path of building a self-driving car. </span></div><hr _ngcontent-iridium-us-c27=\"\"/><div _ngcontent-iridium-us-c27=\"\" class=\"card__expander--details\"><div _ngcontent-iridium-us-c27=\"\" class=\"rating\"><!-- --></div><a _ngcontent-iridium-us-c27=\"\" class=\"button--primary btn\" href=\"/course/self-driving-car-fundamentals-featuring-apollo--ud0419\">Learn More</a></div></div></div></ir-catalog-card><!-- --></div>\n",
      "\n",
      "1: <div _ngcontent-iridium-us-c24=\"\" class=\"course-summary-card row row-gap-medium catalog-card ng-star-inserted\"><ir-catalog-card _ngcontent-iridium-us-c24=\"\" _nghost-iridium-us-c27=\"\"><div _ngcontent-iridium-us-c27=\"\" class=\"card-wrapper is-collapsed\"><div _ngcontent-iridium-us-c27=\"\" class=\"card__inner card mb-0\"><div _ngcontent-iridium-us-c27=\"\" class=\"card__inner--upper\"><div _ngcontent-iridium-us-c27=\"\" class=\"image_wrapper hidden-md-down\"><a _ngcontent-iridium-us-c27=\"\" href=\"/course/tales-from-the-genome--bio110\"><!-- --><div _ngcontent-iridium-us-c27=\"\" class=\"image-container ng-star-inserted\" style='background-image: url(\"https://d20vrrgs8k4bvw.cloudfront.net/images/courses/thumbnails/bio110_thumbnail.jpg\");'><div _ngcontent-iridium-us-c27=\"\" class=\"image-overlay\"></div></div></a><!-- --></div><div _ngcontent-iridium-us-c27=\"\" class=\"card-content\"><!-- --><!-- --><span _ngcontent-iridium-us-c27=\"\" class=\"tag tag--free card ng-star-inserted\">Free</span><div _ngcontent-iridium-us-c27=\"\" class=\"category-wrapper\"><span _ngcontent-iridium-us-c27=\"\" class=\"mobile-icon\"></span><!-- --></div><h3 _ngcontent-iridium-us-c27=\"\" class=\"card-heading\"><a _ngcontent-iridium-us-c27=\"\" class=\"capitalize\" href=\"/course/tales-from-the-genome--bio110\">Tales from the Genome</a></h3><div _ngcontent-iridium-us-c27=\"\" class=\"right-sub\"><!-- --><div _ngcontent-iridium-us-c27=\"\" class=\"skills ng-star-inserted\"><h4 _ngcontent-iridium-us-c27=\"\">Skills Covered</h4><span _ngcontent-iridium-us-c27=\"\" class=\"truncate-content\"><!-- --><span _ngcontent-iridium-us-c27=\"\" class=\"ng-star-inserted\">Genetics, </span><span _ngcontent-iridium-us-c27=\"\" class=\"ng-star-inserted\">DNA, </span><span _ngcontent-iridium-us-c27=\"\" class=\"ng-star-inserted\">Gene regulation</span></span></div><!-- --><div _ngcontent-iridium-us-c27=\"\" class=\"hidden-sm-down ng-star-inserted\"><h4 _ngcontent-iridium-us-c27=\"\"> In Collaboration With </h4><span _ngcontent-iridium-us-c27=\"\" class=\"truncate-content\"><!-- --><span _ngcontent-iridium-us-c27=\"\" class=\"ng-star-inserted\">23andMe</span></span></div><div _ngcontent-iridium-us-c27=\"\" class=\"hidden-md-up level\"><span _ngcontent-iridium-us-c27=\"\" class=\"course-level course-level-beginner\"></span><span _ngcontent-iridium-us-c27=\"\" class=\"capitalize\">beginner</span></div></div></div></div><div _ngcontent-iridium-us-c27=\"\" class=\"card__inner--lower hidden-sm-down\"><div _ngcontent-iridium-us-c27=\"\" class=\"left uppercase blue expander pointer\"><!-- --><span _ngcontent-iridium-us-c27=\"\" class=\"ng-star-inserted\">Course Details</span><!-- --></div><div _ngcontent-iridium-us-c27=\"\" class=\"right\"><!-- --><span _ngcontent-iridium-us-c27=\"\" class=\"caption text-right level ng-star-inserted\"><span _ngcontent-iridium-us-c27=\"\" class=\"course-level course-level-beginner\"></span><span _ngcontent-iridium-us-c27=\"\" class=\"capitalize\">beginner</span></span></div></div></div><div _ngcontent-iridium-us-c27=\"\" class=\"card__expander\"><div _ngcontent-iridium-us-c27=\"\" class=\"card__expander--summary mb-1\"><!-- --><span _ngcontent-iridium-us-c27=\"\" class=\"ng-star-inserted\">Learn the basics of genetics, with a personal twist. This class is all about DNA and how it shapes who we are.</span></div><hr _ngcontent-iridium-us-c27=\"\"/><div _ngcontent-iridium-us-c27=\"\" class=\"card__expander--details\"><div _ngcontent-iridium-us-c27=\"\" class=\"rating\"><!-- --></div><a _ngcontent-iridium-us-c27=\"\" class=\"button--primary btn\" href=\"/course/tales-from-the-genome--bio110\">Learn More</a></div></div></div></ir-catalog-card><!-- --></div>\n",
      "\n"
     ]
    }
   ],
   "source": [
    "for i, course_card in enumerate(course_cards[:2]):\n",
    "    print(f\"{i}: {course_card}\\n\")"
   ]
  },
  {
   "cell_type": "code",
   "execution_count": 128,
   "metadata": {
    "scrolled": true
   },
   "outputs": [
    {
     "name": "stdout",
     "output_type": "stream",
     "text": [
      "<div _ngcontent-iridium-us-c24=\"\" class=\"course-summary-card row row-gap-medium catalog-card ng-star-inserted\">\n",
      " <ir-catalog-card _ngcontent-iridium-us-c24=\"\" _nghost-iridium-us-c27=\"\">\n",
      "  <div _ngcontent-iridium-us-c27=\"\" class=\"card-wrapper is-collapsed\">\n",
      "   <div _ngcontent-iridium-us-c27=\"\" class=\"card__inner card mb-0\">\n",
      "    <div _ngcontent-iridium-us-c27=\"\" class=\"card__inner--upper\">\n",
      "     <div _ngcontent-iridium-us-c27=\"\" class=\"image_wrapper hidden-md-down\">\n",
      "      <a _ngcontent-iridium-us-c27=\"\" href=\"/course/self-driving-car-fundamentals-featuring-apollo--ud0419\">\n",
      "       <!-- -->\n",
      "       <div _ngcontent-iridium-us-c27=\"\" class=\"image-container ng-star-inserted\" style='background-image: url(\"https://d20vrrgs8k4bvw.cloudfront.net/images/courses/thumbnails/ud0419_thumbnail.jpg\");'>\n",
      "        <div _ngcontent-iridium-us-c27=\"\" class=\"image-overlay\">\n",
      "        </div>\n",
      "       </div>\n",
      "      </a>\n",
      "      <!-- -->\n",
      "     </div>\n",
      "     <div _ngcontent-iridium-us-c27=\"\" class=\"card-content\">\n",
      "      <!-- -->\n",
      "      <span _ngcontent-iridium-us-c27=\"\" class=\"tag tag--new card ng-star-inserted\">\n",
      "       New\n",
      "      </span>\n",
      "      <!-- -->\n",
      "      <div _ngcontent-iridium-us-c27=\"\" class=\"category-wrapper\">\n",
      "       <span _ngcontent-iridium-us-c27=\"\" class=\"mobile-icon\">\n",
      "       </span>\n",
      "       <!-- -->\n",
      "       <h4 _ngcontent-iridium-us-c27=\"\" class=\"category ng-star-inserted\">\n",
      "        School of Autonomous Systems\n",
      "       </h4>\n",
      "      </div>\n",
      "      <h3 _ngcontent-iridium-us-c27=\"\" class=\"card-heading\">\n",
      "       <a _ngcontent-iridium-us-c27=\"\" class=\"capitalize\" href=\"/course/self-driving-car-fundamentals-featuring-apollo--ud0419\">\n",
      "        Self-Driving Fundamentals: Featuring Apollo\n",
      "       </a>\n",
      "      </h3>\n",
      "      <div _ngcontent-iridium-us-c27=\"\" class=\"right-sub\">\n",
      "       <!-- -->\n",
      "       <div _ngcontent-iridium-us-c27=\"\" class=\"skills ng-star-inserted\">\n",
      "        <h4 _ngcontent-iridium-us-c27=\"\">\n",
      "         Skills Covered\n",
      "        </h4>\n",
      "        <span _ngcontent-iridium-us-c27=\"\" class=\"truncate-content\">\n",
      "         <!-- -->\n",
      "         <span _ngcontent-iridium-us-c27=\"\" class=\"ng-star-inserted\">\n",
      "          Apollo HD Map,\n",
      "         </span>\n",
      "         <span _ngcontent-iridium-us-c27=\"\" class=\"ng-star-inserted\">\n",
      "          Localization,\n",
      "         </span>\n",
      "         <span _ngcontent-iridium-us-c27=\"\" class=\"ng-star-inserted\">\n",
      "          Perception,\n",
      "         </span>\n",
      "         <span _ngcontent-iridium-us-c27=\"\" class=\"ng-star-inserted\">\n",
      "          Prediction,\n",
      "         </span>\n",
      "         <span _ngcontent-iridium-us-c27=\"\" class=\"ng-star-inserted\">\n",
      "          Planning,\n",
      "         </span>\n",
      "         <span _ngcontent-iridium-us-c27=\"\" class=\"ng-star-inserted\">\n",
      "          Control\n",
      "         </span>\n",
      "        </span>\n",
      "       </div>\n",
      "       <!-- -->\n",
      "       <div _ngcontent-iridium-us-c27=\"\" class=\"hidden-sm-down ng-star-inserted\">\n",
      "        <h4 _ngcontent-iridium-us-c27=\"\">\n",
      "         In Collaboration With\n",
      "        </h4>\n",
      "        <span _ngcontent-iridium-us-c27=\"\" class=\"truncate-content\">\n",
      "         <!-- -->\n",
      "         <span _ngcontent-iridium-us-c27=\"\" class=\"ng-star-inserted\">\n",
      "          Baidu\n",
      "         </span>\n",
      "        </span>\n",
      "       </div>\n",
      "       <div _ngcontent-iridium-us-c27=\"\" class=\"hidden-md-up level\">\n",
      "        <span _ngcontent-iridium-us-c27=\"\" class=\"course-level course-level-beginner\">\n",
      "        </span>\n",
      "        <span _ngcontent-iridium-us-c27=\"\" class=\"capitalize\">\n",
      "         beginner\n",
      "        </span>\n",
      "       </div>\n",
      "      </div>\n",
      "     </div>\n",
      "    </div>\n",
      "    <div _ngcontent-iridium-us-c27=\"\" class=\"card__inner--lower hidden-sm-down\">\n",
      "     <div _ngcontent-iridium-us-c27=\"\" class=\"left uppercase blue expander pointer\">\n",
      "      <!-- -->\n",
      "      <span _ngcontent-iridium-us-c27=\"\" class=\"ng-star-inserted\">\n",
      "       Course Details\n",
      "      </span>\n",
      "      <!-- -->\n",
      "     </div>\n",
      "     <div _ngcontent-iridium-us-c27=\"\" class=\"right\">\n",
      "      <!-- -->\n",
      "      <span _ngcontent-iridium-us-c27=\"\" class=\"caption text-right level ng-star-inserted\">\n",
      "       <span _ngcontent-iridium-us-c27=\"\" class=\"course-level course-level-beginner\">\n",
      "       </span>\n",
      "       <span _ngcontent-iridium-us-c27=\"\" class=\"capitalize\">\n",
      "        beginner\n",
      "       </span>\n",
      "      </span>\n",
      "     </div>\n",
      "    </div>\n",
      "   </div>\n",
      "   <div _ngcontent-iridium-us-c27=\"\" class=\"card__expander\">\n",
      "    <div _ngcontent-iridium-us-c27=\"\" class=\"card__expander--summary mb-1\">\n",
      "     <!-- -->\n",
      "     <span _ngcontent-iridium-us-c27=\"\" class=\"ng-star-inserted\">\n",
      "      Identify key parts of self-driving cars, utilize Apollo HD Map, localization, perception, prediction, planning and control, and start the learning path of building a self-driving car.\n",
      "     </span>\n",
      "    </div>\n",
      "    <hr _ngcontent-iridium-us-c27=\"\"/>\n",
      "    <div _ngcontent-iridium-us-c27=\"\" class=\"card__expander--details\">\n",
      "     <div _ngcontent-iridium-us-c27=\"\" class=\"rating\">\n",
      "      <!-- -->\n",
      "     </div>\n",
      "     <a _ngcontent-iridium-us-c27=\"\" class=\"button--primary btn\" href=\"/course/self-driving-car-fundamentals-featuring-apollo--ud0419\">\n",
      "      Learn More\n",
      "     </a>\n",
      "    </div>\n",
      "   </div>\n",
      "  </div>\n",
      " </ir-catalog-card>\n",
      " <!-- -->\n",
      "</div>\n",
      "\n"
     ]
    }
   ],
   "source": [
    "print(course_cards[0].prettify())"
   ]
  },
  {
   "cell_type": "code",
   "execution_count": 134,
   "metadata": {
    "scrolled": true
   },
   "outputs": [],
   "source": [
    "# Helper Function\n",
    "\n",
    "def get_course_programs_details_list(course_cards):\n",
    "    '''\n",
    "    returns list of lists containing info on course programs\n",
    "    Each course info list contains -\n",
    "        - Name\n",
    "        - Relative URL Link\n",
    "        - Category (if present)\n",
    "        - Skills (if present)\n",
    "        - Collaborators (if present)\n",
    "        - Level: Beginner, Intermediate, Advanced (if present)\n",
    "        - Details (if present)\n",
    "    '''\n",
    "    print(\"Getting Course program details list...\")\n",
    "    all_courses_info_list = []\n",
    "    for i, course_card in enumerate(course_cards):\n",
    "        course_info = []\n",
    "\n",
    "        # course name and link\n",
    "        course_link = course_card.find('a', {'class': 'capitalize'})\n",
    "        course_name = course_link.text\n",
    "        course_info.append(course_name)\n",
    "\n",
    "        course_link = course_link.get('href')\n",
    "        course_info.append(course_link)\n",
    "\n",
    "        \n",
    "        # category\n",
    "        category = course_card.find('h4', {'class': 'category ng-star-inserted'})\n",
    "        if category:\n",
    "            category = category.text.strip()\n",
    "            course_info.append(category)\n",
    "        else:\n",
    "            course_info.append('')\n",
    "\n",
    "            \n",
    "        # skills\n",
    "        skills_section = course_card.find('div', {'class': 'skills ng-star-inserted'})\n",
    "        if skills_section:\n",
    "            skills_list = skills_section.find_all('span', {'class': 'ng-star-inserted'})\n",
    "            skills = [skill.text for skill in skills_list]\n",
    "            course_info.append(''.join(skills))\n",
    "        else:\n",
    "            course_info.append('')\n",
    "\n",
    "\n",
    "        # collaborators\n",
    "        collaborators_section = course_card.find('div', {'class': 'hidden-sm-down ng-star-inserted'})\n",
    "        if collaborators_section:\n",
    "            #print('\\n', collaborators.prettify())\n",
    "            collaborators_list = collaborators_section.find_all('span', {'class': 'ng-star-inserted'})\n",
    "            collaborators = [collaborator.text for collaborator in collaborators_list]\n",
    "            #print(collaborators)\n",
    "            course_info.append(''.join(collaborators))\n",
    "        else:\n",
    "            course_info.append('')\n",
    "\n",
    "\n",
    "        # course level\n",
    "        right_section = course_card.find('div', {'class': 'right'})\n",
    "        if right_section:\n",
    "            course_level = right_section.text.capitalize()\n",
    "            course_info.append(course_level)\n",
    "        else:\n",
    "            course_info.append('')\n",
    "\n",
    "        \n",
    "        # course details\n",
    "        details_section = course_card.find('div', {'class': 'card__expander'}).find('span', {'class': 'ng-star-inserted'})\n",
    "        if details_section:\n",
    "            course_details = details_section.text\n",
    "            course_info.append(course_details)\n",
    "        else:\n",
    "            course_info.append('')\n",
    "\n",
    "        all_courses_info_list.append(course_info)\n",
    "        \n",
    "    print(\"Completed getting Course program details list...\")\n",
    "    return all_courses_info_list"
   ]
  },
  {
   "cell_type": "code",
   "execution_count": 135,
   "metadata": {},
   "outputs": [
    {
     "name": "stdout",
     "output_type": "stream",
     "text": [
      "Getting Course program details list...\n",
      "Completed getting Course program details list...\n"
     ]
    },
    {
     "data": {
      "text/plain": [
       "[['Self-Driving Fundamentals: Featuring Apollo ',\n",
       "  '/course/self-driving-car-fundamentals-featuring-apollo--ud0419',\n",
       "  'School of Autonomous Systems',\n",
       "  'Apollo HD Map, Localization, Perception, Prediction, Planning, Control',\n",
       "  'Baidu',\n",
       "  'Beginner',\n",
       "  'Identify key parts of self-driving cars, utilize Apollo HD Map, localization, perception, prediction, planning and control, and start the learning path of building a self-driving car. '],\n",
       " ['Tales from the Genome',\n",
       "  '/course/tales-from-the-genome--bio110',\n",
       "  '',\n",
       "  'Genetics, DNA, Gene regulation',\n",
       "  '23andMe',\n",
       "  'Beginner',\n",
       "  'Learn the basics of genetics, with a personal twist. This class is all about DNA and how it shapes who we are.']]"
      ]
     },
     "execution_count": 135,
     "metadata": {},
     "output_type": "execute_result"
    }
   ],
   "source": [
    "courses_infos_list = get_course_programs_details_list(course_cards)\n",
    "\n",
    "courses_infos_list[:2]"
   ]
  },
  {
   "cell_type": "markdown",
   "metadata": {},
   "source": [
    "---"
   ]
  },
  {
   "cell_type": "markdown",
   "metadata": {},
   "source": [
    "**Observations**\n",
    "\n",
    "The same code can be use to extract the details for both Nanodegrees and Courses. So let's build a generic function that can be utilized for both."
   ]
  },
  {
   "cell_type": "code",
   "execution_count": 159,
   "metadata": {},
   "outputs": [],
   "source": [
    "def get_programs_details_list(course_cards):\n",
    "    '''\n",
    "    returns list of lists containing info on programs\n",
    "    Each program info list contains -\n",
    "        - Name\n",
    "        - Course Type\n",
    "        - Relative URL Link\n",
    "        - Category (if present)\n",
    "        - Skills (if present)\n",
    "        - Collaborators (if present)\n",
    "        - Level: Beginner, Intermediate, Advanced (if present)\n",
    "        - Details (if present)\n",
    "    '''\n",
    "    print(\"Getting program details list...\")\n",
    "    all_courses_info_list = []\n",
    "    for i, course_card in enumerate(course_cards):\n",
    "        course_info = []\n",
    "\n",
    "        # course name, type and link\n",
    "        course_link = course_card.find('a', {'class': 'capitalize'})\n",
    "        course_name = course_link.text\n",
    "        course_info.append(course_name)\n",
    "\n",
    "        course_link = course_link.get('href')\n",
    "        \n",
    "        if '--nd' in course_link.lower() or 'nanodegree' in course_link.lower():\n",
    "            course_type = 'nanodegree'\n",
    "        else:\n",
    "            course_type = 'course'\n",
    "        \n",
    "        course_info.append(course_type)\n",
    "        course_info.append(course_link)\n",
    "\n",
    "        \n",
    "        # category\n",
    "        category = course_card.find('h4', {'class': 'category ng-star-inserted'})\n",
    "        if category:\n",
    "            category = category.text.strip()\n",
    "            course_info.append(category)\n",
    "        else:\n",
    "            course_info.append('')\n",
    "\n",
    "            \n",
    "        # skills\n",
    "        skills_section = course_card.find('div', {'class': 'skills ng-star-inserted'})\n",
    "        if skills_section:\n",
    "            skills_list = skills_section.find_all('span', {'class': 'ng-star-inserted'})\n",
    "            skills = [skill.text for skill in skills_list]\n",
    "            course_info.append(''.join(skills))\n",
    "        else:\n",
    "            course_info.append('')\n",
    "\n",
    "\n",
    "        # collaborators\n",
    "        collaborators_section = course_card.find('div', {'class': 'hidden-sm-down ng-star-inserted'})\n",
    "        if collaborators_section:\n",
    "            collaborators_list = collaborators_section.find_all('span', {'class': 'ng-star-inserted'})\n",
    "            collaborators = [collaborator.text for collaborator in collaborators_list]\n",
    "            course_info.append(''.join(collaborators))\n",
    "        else:\n",
    "            course_info.append('')\n",
    "\n",
    "\n",
    "        # course level\n",
    "        right_section = course_card.find('div', {'class': 'right'})\n",
    "        if right_section:\n",
    "            course_level = right_section.text.capitalize()\n",
    "            course_info.append(course_level)\n",
    "        else:\n",
    "            course_info.append('')\n",
    "\n",
    "        \n",
    "        # course details\n",
    "        details_section = course_card.find('div', {'class': 'card__expander'}).find('span', {'class': 'ng-star-inserted'})\n",
    "        if details_section:\n",
    "            course_details = details_section.text\n",
    "            course_info.append(course_details)\n",
    "        else:\n",
    "            course_info.append('')\n",
    "\n",
    "        all_courses_info_list.append(course_info)\n",
    "        \n",
    "    print(\"Completed getting program details list...\")\n",
    "    return all_courses_info_list"
   ]
  },
  {
   "cell_type": "code",
   "execution_count": 160,
   "metadata": {},
   "outputs": [
    {
     "name": "stdout",
     "output_type": "stream",
     "text": [
      "Getting program details list...\n",
      "Completed getting program details list...\n",
      "Getting program details list...\n",
      "Completed getting program details list...\n"
     ]
    }
   ],
   "source": [
    "nd_infos_list = get_programs_details_list(nanodegree_cards)\n",
    "\n",
    "courses_infos_list = get_programs_details_list(course_cards)"
   ]
  },
  {
   "cell_type": "code",
   "execution_count": 161,
   "metadata": {},
   "outputs": [
    {
     "data": {
      "text/plain": [
       "[['Java Developer',\n",
       "  'nanodegree',\n",
       "  '/course/java-developer-nanodegree--nd035',\n",
       "  'School of Programming',\n",
       "  'Java, Spring Boot, Rest API, MySQL, MongoDB',\n",
       "  '',\n",
       "  'Intermediate',\n",
       "  'Learn back-end development with the Java programming language'],\n",
       " ['AI Product Manager',\n",
       "  'nanodegree',\n",
       "  '/course/ai-product-manager-nanodegree--nd088',\n",
       "  'School of Artificial Intelligence',\n",
       "  'AI Products, Training ML Models, Annotating Datasets, Prototyping a Product',\n",
       "  'Figure Eight',\n",
       "  'Beginner',\n",
       "  'Learn to develop AI products that deliver business value. Build skills that help you compete in the new AI-powered world.']]"
      ]
     },
     "execution_count": 161,
     "metadata": {},
     "output_type": "execute_result"
    }
   ],
   "source": [
    "nd_infos_list[:2]"
   ]
  },
  {
   "cell_type": "code",
   "execution_count": 162,
   "metadata": {
    "scrolled": true
   },
   "outputs": [
    {
     "data": {
      "text/plain": [
       "[['Self-Driving Fundamentals: Featuring Apollo ',\n",
       "  'course',\n",
       "  '/course/self-driving-car-fundamentals-featuring-apollo--ud0419',\n",
       "  'School of Autonomous Systems',\n",
       "  'Apollo HD Map, Localization, Perception, Prediction, Planning, Control',\n",
       "  'Baidu',\n",
       "  'Beginner',\n",
       "  'Identify key parts of self-driving cars, utilize Apollo HD Map, localization, perception, prediction, planning and control, and start the learning path of building a self-driving car. '],\n",
       " ['Tales from the Genome',\n",
       "  'course',\n",
       "  '/course/tales-from-the-genome--bio110',\n",
       "  '',\n",
       "  'Genetics, DNA, Gene regulation',\n",
       "  '23andMe',\n",
       "  'Beginner',\n",
       "  'Learn the basics of genetics, with a personal twist. This class is all about DNA and how it shapes who we are.']]"
      ]
     },
     "execution_count": 162,
     "metadata": {},
     "output_type": "execute_result"
    }
   ],
   "source": [
    "courses_infos_list[:2]"
   ]
  },
  {
   "cell_type": "code",
   "execution_count": 164,
   "metadata": {},
   "outputs": [
    {
     "name": "stdout",
     "output_type": "stream",
     "text": [
      "There are 230 programs!\n"
     ]
    }
   ],
   "source": [
    "all_courses_list = []\n",
    "\n",
    "all_courses_list.extend(nd_infos_list)\n",
    "all_courses_list.extend(courses_infos_list)\n",
    "\n",
    "print(f\"There are {len(all_courses_list)} programs!\")"
   ]
  },
  {
   "cell_type": "code",
   "execution_count": 166,
   "metadata": {},
   "outputs": [
    {
     "data": {
      "text/plain": [
       "[['Java Developer',\n",
       "  'nanodegree',\n",
       "  '/course/java-developer-nanodegree--nd035',\n",
       "  'School of Programming',\n",
       "  'Java, Spring Boot, Rest API, MySQL, MongoDB',\n",
       "  '',\n",
       "  'Intermediate',\n",
       "  'Learn back-end development with the Java programming language'],\n",
       " ['AI Product Manager',\n",
       "  'nanodegree',\n",
       "  '/course/ai-product-manager-nanodegree--nd088',\n",
       "  'School of Artificial Intelligence',\n",
       "  'AI Products, Training ML Models, Annotating Datasets, Prototyping a Product',\n",
       "  'Figure Eight',\n",
       "  'Beginner',\n",
       "  'Learn to develop AI products that deliver business value. Build skills that help you compete in the new AI-powered world.'],\n",
       " ['Sensor Fusion Engineer',\n",
       "  'nanodegree',\n",
       "  '/course/sensor-fusion-engineer-nanodegree--nd313',\n",
       "  'School of Autonomous Systems',\n",
       "  'Perception, Lidar, Radar, Sensors, Computer Vision',\n",
       "  'Mercedes',\n",
       "  'Advanced',\n",
       "  'Learn to fuse lidar point clouds, radar signatures, and camera images using Kalman Filters to perceive the environment and detect and track vehicles and pedestrians over time.'],\n",
       " ['Data Visualization',\n",
       "  'nanodegree',\n",
       "  '/course/data-visualization-nanodegree--nd197',\n",
       "  'School of Data Science',\n",
       "  'Data Visualization, Tableau, Dashboards, Data Storytelling',\n",
       "  '',\n",
       "  'Beginner',\n",
       "  'Combine data, visuals, and narrative to tell impactful stories and make data-driven decisions.'],\n",
       " ['Cloud Developer',\n",
       "  'nanodegree',\n",
       "  '/course/cloud-developer-nanodegree--nd9990',\n",
       "  'School of Cloud Computing',\n",
       "  'AWS, Microservices, Serverless Architecture, Kubernetes',\n",
       "  '',\n",
       "  'Intermediate ',\n",
       "  'Cloud development is the foundation for the new world of software development. Enroll now to build and deploy production-ready full stack apps at scale on AWS, an essential skill for advancing your web development career.']]"
      ]
     },
     "execution_count": 166,
     "metadata": {},
     "output_type": "execute_result"
    }
   ],
   "source": [
    "all_courses_list[:5]"
   ]
  },
  {
   "cell_type": "code",
   "execution_count": 168,
   "metadata": {},
   "outputs": [
    {
     "data": {
      "text/html": [
       "<div>\n",
       "<style scoped>\n",
       "    .dataframe tbody tr th:only-of-type {\n",
       "        vertical-align: middle;\n",
       "    }\n",
       "\n",
       "    .dataframe tbody tr th {\n",
       "        vertical-align: top;\n",
       "    }\n",
       "\n",
       "    .dataframe thead th {\n",
       "        text-align: right;\n",
       "    }\n",
       "</style>\n",
       "<table border=\"1\" class=\"dataframe\">\n",
       "  <thead>\n",
       "    <tr style=\"text-align: right;\">\n",
       "      <th></th>\n",
       "      <th>name</th>\n",
       "      <th>type</th>\n",
       "      <th>link</th>\n",
       "      <th>category</th>\n",
       "      <th>skills</th>\n",
       "      <th>collaborators</th>\n",
       "      <th>level</th>\n",
       "      <th>detail</th>\n",
       "    </tr>\n",
       "  </thead>\n",
       "  <tbody>\n",
       "    <tr>\n",
       "      <th>0</th>\n",
       "      <td>Java Developer</td>\n",
       "      <td>nanodegree</td>\n",
       "      <td>/course/java-developer-nanodegree--nd035</td>\n",
       "      <td>School of Programming</td>\n",
       "      <td>Java, Spring Boot, Rest API, MySQL, MongoDB</td>\n",
       "      <td></td>\n",
       "      <td>Intermediate</td>\n",
       "      <td>Learn back-end development with the Java progr...</td>\n",
       "    </tr>\n",
       "    <tr>\n",
       "      <th>1</th>\n",
       "      <td>AI Product Manager</td>\n",
       "      <td>nanodegree</td>\n",
       "      <td>/course/ai-product-manager-nanodegree--nd088</td>\n",
       "      <td>School of Artificial Intelligence</td>\n",
       "      <td>AI Products, Training ML Models, Annotating Da...</td>\n",
       "      <td>Figure Eight</td>\n",
       "      <td>Beginner</td>\n",
       "      <td>Learn to develop AI products that deliver busi...</td>\n",
       "    </tr>\n",
       "    <tr>\n",
       "      <th>2</th>\n",
       "      <td>Sensor Fusion Engineer</td>\n",
       "      <td>nanodegree</td>\n",
       "      <td>/course/sensor-fusion-engineer-nanodegree--nd313</td>\n",
       "      <td>School of Autonomous Systems</td>\n",
       "      <td>Perception, Lidar, Radar, Sensors, Computer Vi...</td>\n",
       "      <td>Mercedes</td>\n",
       "      <td>Advanced</td>\n",
       "      <td>Learn to fuse lidar point clouds, radar signat...</td>\n",
       "    </tr>\n",
       "    <tr>\n",
       "      <th>3</th>\n",
       "      <td>Data Visualization</td>\n",
       "      <td>nanodegree</td>\n",
       "      <td>/course/data-visualization-nanodegree--nd197</td>\n",
       "      <td>School of Data Science</td>\n",
       "      <td>Data Visualization, Tableau, Dashboards, Data ...</td>\n",
       "      <td></td>\n",
       "      <td>Beginner</td>\n",
       "      <td>Combine data, visuals, and narrative to tell i...</td>\n",
       "    </tr>\n",
       "    <tr>\n",
       "      <th>4</th>\n",
       "      <td>Cloud Developer</td>\n",
       "      <td>nanodegree</td>\n",
       "      <td>/course/cloud-developer-nanodegree--nd9990</td>\n",
       "      <td>School of Cloud Computing</td>\n",
       "      <td>AWS, Microservices, Serverless Architecture, K...</td>\n",
       "      <td></td>\n",
       "      <td>Intermediate</td>\n",
       "      <td>Cloud development is the foundation for the ne...</td>\n",
       "    </tr>\n",
       "  </tbody>\n",
       "</table>\n",
       "</div>"
      ],
      "text/plain": [
       "                     name        type  \\\n",
       "0          Java Developer  nanodegree   \n",
       "1      AI Product Manager  nanodegree   \n",
       "2  Sensor Fusion Engineer  nanodegree   \n",
       "3      Data Visualization  nanodegree   \n",
       "4         Cloud Developer  nanodegree   \n",
       "\n",
       "                                               link  \\\n",
       "0          /course/java-developer-nanodegree--nd035   \n",
       "1      /course/ai-product-manager-nanodegree--nd088   \n",
       "2  /course/sensor-fusion-engineer-nanodegree--nd313   \n",
       "3      /course/data-visualization-nanodegree--nd197   \n",
       "4        /course/cloud-developer-nanodegree--nd9990   \n",
       "\n",
       "                            category  \\\n",
       "0              School of Programming   \n",
       "1  School of Artificial Intelligence   \n",
       "2       School of Autonomous Systems   \n",
       "3             School of Data Science   \n",
       "4          School of Cloud Computing   \n",
       "\n",
       "                                              skills collaborators  \\\n",
       "0        Java, Spring Boot, Rest API, MySQL, MongoDB                 \n",
       "1  AI Products, Training ML Models, Annotating Da...  Figure Eight   \n",
       "2  Perception, Lidar, Radar, Sensors, Computer Vi...      Mercedes   \n",
       "3  Data Visualization, Tableau, Dashboards, Data ...                 \n",
       "4  AWS, Microservices, Serverless Architecture, K...                 \n",
       "\n",
       "           level                                             detail  \n",
       "0   Intermediate  Learn back-end development with the Java progr...  \n",
       "1       Beginner  Learn to develop AI products that deliver busi...  \n",
       "2       Advanced  Learn to fuse lidar point clouds, radar signat...  \n",
       "3       Beginner  Combine data, visuals, and narrative to tell i...  \n",
       "4  Intermediate   Cloud development is the foundation for the ne...  "
      ]
     },
     "execution_count": 168,
     "metadata": {},
     "output_type": "execute_result"
    }
   ],
   "source": [
    "df = pd.DataFrame(all_courses_list)\n",
    "df.columns = ['name', 'type', 'link', 'category', 'skills', 'collaborators', 'level', 'detail']\n",
    "df.head()"
   ]
  },
  {
   "cell_type": "code",
   "execution_count": 169,
   "metadata": {},
   "outputs": [
    {
     "data": {
      "text/plain": [
       "'2019-08-10'"
      ]
     },
     "execution_count": 169,
     "metadata": {},
     "output_type": "execute_result"
    }
   ],
   "source": [
    "now = datetime.datetime.now()\n",
    "now.strftime('%F')"
   ]
  },
  {
   "cell_type": "code",
   "execution_count": 170,
   "metadata": {},
   "outputs": [
    {
     "name": "stdout",
     "output_type": "stream",
     "text": [
      "Saving to 2019-08-10-udacity-course-catalog.csv\n"
     ]
    }
   ],
   "source": [
    "csv_file_name = now.strftime('%F') + '-udacity-course-catalog.csv'\n",
    "print(f\"Saving to {csv_file_name}\")\n",
    "df.to_csv(csv_file_name, sep='|')"
   ]
  },
  {
   "cell_type": "code",
   "execution_count": 171,
   "metadata": {},
   "outputs": [
    {
     "name": "stdout",
     "output_type": "stream",
     "text": [
      "2019-08-10-udacity-course-catalog.csv\r\n",
      "get_udacity_catalog.py\r\n",
      "interactive_notebook.ipynb\r\n",
      "interactive_notebook-second-attempt.ipynb\r\n",
      "requirements.txt\r\n",
      "venv\r\n"
     ]
    }
   ],
   "source": [
    "!ls"
   ]
  }
 ],
 "metadata": {
  "kernelspec": {
   "display_name": "Python 3",
   "language": "python",
   "name": "python3"
  },
  "language_info": {
   "codemirror_mode": {
    "name": "ipython",
    "version": 3
   },
   "file_extension": ".py",
   "mimetype": "text/x-python",
   "name": "python",
   "nbconvert_exporter": "python",
   "pygments_lexer": "ipython3",
   "version": "3.7.4"
  }
 },
 "nbformat": 4,
 "nbformat_minor": 2
}
